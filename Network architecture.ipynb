{
 "cells": [
  {
   "cell_type": "code",
   "execution_count": 1,
   "metadata": {},
   "outputs": [
    {
     "name": "stderr",
     "output_type": "stream",
     "text": [
      "/home/aldopedraza/anaconda3/envs/tensorflow/lib/python3.6/site-packages/h5py/__init__.py:36: FutureWarning: Conversion of the second argument of issubdtype from `float` to `np.floating` is deprecated. In future, it will be treated as `np.float64 == np.dtype(float).type`.\n",
      "  from ._conv import register_converters as _register_converters\n",
      "Using TensorFlow backend.\n",
      "/home/aldopedraza/anaconda3/envs/tensorflow/lib/python3.6/importlib/_bootstrap.py:219: RuntimeWarning: numpy.dtype size changed, may indicate binary incompatibility. Expected 96, got 88\n",
      "  return f(*args, **kwds)\n",
      "/home/aldopedraza/anaconda3/envs/tensorflow/lib/python3.6/importlib/_bootstrap.py:219: RuntimeWarning: numpy.dtype size changed, may indicate binary incompatibility. Expected 96, got 88\n",
      "  return f(*args, **kwds)\n"
     ]
    }
   ],
   "source": [
    "import numpy as np\n",
    "import keras.backend as K\n",
    "from keras.layers import Input, Dense, Conv2D, MaxPooling2D, Reshape, Flatten, Dropout, Activation\n",
    "from keras.models import Model, Sequential\n",
    "from keras.layers.normalization import BatchNormalization\n",
    "from skimage.transform import resize\n",
    "from imageio import imread"
   ]
  },
  {
   "cell_type": "code",
   "execution_count": 2,
   "metadata": {},
   "outputs": [],
   "source": [
    "path_data = '../all/'"
   ]
  },
  {
   "cell_type": "code",
   "execution_count": 3,
   "metadata": {},
   "outputs": [],
   "source": [
    "def preprocess_input(np_img):\n",
    "    np_img = np_img / 255\n",
    "    return np_img"
   ]
  },
  {
   "cell_type": "code",
   "execution_count": 4,
   "metadata": {},
   "outputs": [],
   "source": [
    "def generator(path_images, labels, batch_size, size_img = None):\n",
    "    index_list = range(0, labels.shape[0])\n",
    "    count = 0\n",
    "    while True:\n",
    "        batch_features = []\n",
    "        batch_labels = []\n",
    "        for i in range(batch_size):\n",
    "            # Read image\n",
    "            name_img = labels[count][0] + '.jpg'\n",
    "            img = imread(path_images + '/' + name_img)\n",
    "            \n",
    "            # Resize the image\n",
    "            if size_img != None:\n",
    "                img = resize(img, (size_img, size_img))\n",
    "            \n",
    "            # Image preprocessing\n",
    "            img = preprocess_input(img)\n",
    "\n",
    "            label = labels[count][1:]\n",
    "\n",
    "            batch_features.append(img)\n",
    "            batch_labels.append(label)\n",
    "            count += 1\n",
    "            \n",
    "            # Restart counter when it has reached the size \n",
    "            # of the data set\n",
    "            if count == label.shape[0] - 1:\n",
    "                count = 0\n",
    "                break\n",
    "            \n",
    "        yield np.array(batch_features), np.array(batch_labels)\n",
    "            "
   ]
  },
  {
   "cell_type": "code",
   "execution_count": 5,
   "metadata": {},
   "outputs": [],
   "source": [
    "def galaxy_cnn(input_size, output_size):\n",
    "    model = Sequential()\n",
    "    model.add(Conv2D(32, kernel_size=(3, 3),activation='relu',input_shape=input_size))\n",
    "    model.add(MaxPooling2D(pool_size=(2, 2)))\n",
    "    model.add(Conv2D(64, kernel_size=(3, 3)))\n",
    "    model.add(MaxPooling2D(pool_size=(2, 2)))\n",
    "    model.add(BatchNormalization())\n",
    "    model.add(Activation('relu'))\n",
    "    model.add(Conv2D(128, kernel_size=(3, 3)))\n",
    "    model.add(MaxPooling2D(pool_size=(2, 2)))\n",
    "    model.add(BatchNormalization())\n",
    "    model.add(Activation('relu'))\n",
    "    model.add(Conv2D(256, kernel_size=(3, 3)))\n",
    "    model.add(MaxPooling2D(pool_size=(2, 2)))\n",
    "    model.add(BatchNormalization())\n",
    "    model.add(Activation('relu'))\n",
    "    model.add(Conv2D(512, kernel_size=(3, 3)))\n",
    "    model.add(MaxPooling2D(pool_size=(2, 2)))\n",
    "    model.add(BatchNormalization())\n",
    "    model.add(Activation('relu'))\n",
    "    model.add(Flatten())\n",
    "    model.add(Dense(128, activation='relu'))\n",
    "    model.add(Dropout(0.3))\n",
    "    model.add(Dense(128, activation='relu'))\n",
    "    model.add(Dropout(0.3))\n",
    "    model.add(Dense(output_size, activation='sigmoid'))\n",
    "    return model"
   ]
  },
  {
   "cell_type": "code",
   "execution_count": 6,
   "metadata": {},
   "outputs": [],
   "source": [
    "def rmse (y_true, y_pred):\n",
    "    return K.sqrt(K.mean(K.square(y_pred - y_true)))"
   ]
  },
  {
   "cell_type": "code",
   "execution_count": 7,
   "metadata": {},
   "outputs": [],
   "source": [
    "labels_train = np.load(path_data + 'y_train.npy')\n",
    "labels_test = np.load(path_data + 'y_test.npy')\n",
    "labels_val = np.load(path_data + 'y_val.npy')"
   ]
  },
  {
   "cell_type": "code",
   "execution_count": 8,
   "metadata": {},
   "outputs": [
    {
     "data": {
      "text/plain": [
       "(9237, 38)"
      ]
     },
     "execution_count": 8,
     "metadata": {},
     "output_type": "execute_result"
    }
   ],
   "source": [
    "labels_val.shape"
   ]
  },
  {
   "cell_type": "code",
   "execution_count": 9,
   "metadata": {},
   "outputs": [],
   "source": [
    "model = galaxy_cnn((424, 424, 3), 37)"
   ]
  },
  {
   "cell_type": "code",
   "execution_count": 10,
   "metadata": {},
   "outputs": [
    {
     "name": "stdout",
     "output_type": "stream",
     "text": [
      "_________________________________________________________________\n",
      "Layer (type)                 Output Shape              Param #   \n",
      "=================================================================\n",
      "conv2d_1 (Conv2D)            (None, 422, 422, 32)      896       \n",
      "_________________________________________________________________\n",
      "max_pooling2d_1 (MaxPooling2 (None, 211, 211, 32)      0         \n",
      "_________________________________________________________________\n",
      "conv2d_2 (Conv2D)            (None, 209, 209, 64)      18496     \n",
      "_________________________________________________________________\n",
      "max_pooling2d_2 (MaxPooling2 (None, 104, 104, 64)      0         \n",
      "_________________________________________________________________\n",
      "batch_normalization_1 (Batch (None, 104, 104, 64)      256       \n",
      "_________________________________________________________________\n",
      "activation_1 (Activation)    (None, 104, 104, 64)      0         \n",
      "_________________________________________________________________\n",
      "conv2d_3 (Conv2D)            (None, 102, 102, 128)     73856     \n",
      "_________________________________________________________________\n",
      "max_pooling2d_3 (MaxPooling2 (None, 51, 51, 128)       0         \n",
      "_________________________________________________________________\n",
      "batch_normalization_2 (Batch (None, 51, 51, 128)       512       \n",
      "_________________________________________________________________\n",
      "activation_2 (Activation)    (None, 51, 51, 128)       0         \n",
      "_________________________________________________________________\n",
      "conv2d_4 (Conv2D)            (None, 49, 49, 256)       295168    \n",
      "_________________________________________________________________\n",
      "max_pooling2d_4 (MaxPooling2 (None, 24, 24, 256)       0         \n",
      "_________________________________________________________________\n",
      "batch_normalization_3 (Batch (None, 24, 24, 256)       1024      \n",
      "_________________________________________________________________\n",
      "activation_3 (Activation)    (None, 24, 24, 256)       0         \n",
      "_________________________________________________________________\n",
      "conv2d_5 (Conv2D)            (None, 22, 22, 512)       1180160   \n",
      "_________________________________________________________________\n",
      "max_pooling2d_5 (MaxPooling2 (None, 11, 11, 512)       0         \n",
      "_________________________________________________________________\n",
      "batch_normalization_4 (Batch (None, 11, 11, 512)       2048      \n",
      "_________________________________________________________________\n",
      "activation_4 (Activation)    (None, 11, 11, 512)       0         \n",
      "_________________________________________________________________\n",
      "flatten_1 (Flatten)          (None, 61952)             0         \n",
      "_________________________________________________________________\n",
      "dense_1 (Dense)              (None, 128)               7929984   \n",
      "_________________________________________________________________\n",
      "dropout_1 (Dropout)          (None, 128)               0         \n",
      "_________________________________________________________________\n",
      "dense_2 (Dense)              (None, 128)               16512     \n",
      "_________________________________________________________________\n",
      "dropout_2 (Dropout)          (None, 128)               0         \n",
      "_________________________________________________________________\n",
      "dense_3 (Dense)              (None, 37)                4773      \n",
      "=================================================================\n",
      "Total params: 9,523,685\n",
      "Trainable params: 9,521,765\n",
      "Non-trainable params: 1,920\n",
      "_________________________________________________________________\n",
      "None\n"
     ]
    }
   ],
   "source": [
    "print(model.summary())"
   ]
  },
  {
   "cell_type": "code",
   "execution_count": 11,
   "metadata": {},
   "outputs": [],
   "source": [
    "model.compile(loss='mean_squared_error', optimizer='adagrad', metrics=[rmse])"
   ]
  },
  {
   "cell_type": "code",
   "execution_count": 12,
   "metadata": {},
   "outputs": [],
   "source": [
    "batch_size = 8\n",
    "steps = 43104 // batch_size \n",
    "steps_va = 9237 // batch_size\n",
    "epochs = 10"
   ]
  },
  {
   "cell_type": "code",
   "execution_count": 13,
   "metadata": {},
   "outputs": [
    {
     "name": "stdout",
     "output_type": "stream",
     "text": [
      "Epoch 1/10\n",
      "   3/5388 [..............................] - ETA: 32:55:17 - loss: 0.2015 - rmse: 0.4479"
     ]
    },
    {
     "name": "stderr",
     "output_type": "stream",
     "text": [
      "/home/aldopedraza/anaconda3/envs/tensorflow/lib/python3.6/site-packages/keras/callbacks.py:120: UserWarning: Method on_batch_end() is slow compared to the batch update (0.270563). Check your callbacks.\n",
      "  % delta_t_median)\n"
     ]
    },
    {
     "name": "stdout",
     "output_type": "stream",
     "text": [
      "5388/5388 [==============================] - 901s 167ms/step - loss: 0.0594 - rmse: 0.2433 - val_loss: 0.0590 - val_rmse: 0.2427\n",
      "Epoch 2/10\n",
      "5388/5388 [==============================] - 878s 163ms/step - loss: 0.0582 - rmse: 0.2409 - val_loss: 0.0590 - val_rmse: 0.2427\n",
      "Epoch 3/10\n",
      "5388/5388 [==============================] - 863s 160ms/step - loss: 0.0574 - rmse: 0.2394 - val_loss: 0.0590 - val_rmse: 0.2427\n",
      "Epoch 4/10\n",
      "5388/5388 [==============================] - 863s 160ms/step - loss: 0.0536 - rmse: 0.2313 - val_loss: 0.0610 - val_rmse: 0.2465\n",
      "Epoch 5/10\n",
      "5388/5388 [==============================] - 862s 160ms/step - loss: 0.0491 - rmse: 0.2212 - val_loss: 0.0612 - val_rmse: 0.2470\n",
      "Epoch 6/10\n",
      "5388/5388 [==============================] - 863s 160ms/step - loss: 0.0453 - rmse: 0.2125 - val_loss: 0.0650 - val_rmse: 0.2545\n",
      "Epoch 7/10\n",
      "5388/5388 [==============================] - 863s 160ms/step - loss: 0.0448 - rmse: 0.2115 - val_loss: 0.0649 - val_rmse: 0.2544\n",
      "Epoch 8/10\n",
      "5388/5388 [==============================] - 863s 160ms/step - loss: 0.0448 - rmse: 0.2114 - val_loss: 0.0654 - val_rmse: 0.2553\n",
      "Epoch 9/10\n",
      "5388/5388 [==============================] - 862s 160ms/step - loss: 0.0447 - rmse: 0.2114 - val_loss: 0.0637 - val_rmse: 0.2518\n",
      "Epoch 10/10\n",
      "5388/5388 [==============================] - 862s 160ms/step - loss: 0.0447 - rmse: 0.2113 - val_loss: 0.0651 - val_rmse: 0.2548\n"
     ]
    },
    {
     "data": {
      "text/plain": [
       "<keras.callbacks.History at 0x7f17a015a320>"
      ]
     },
     "execution_count": 13,
     "metadata": {},
     "output_type": "execute_result"
    }
   ],
   "source": [
    "model.fit_generator(generator(path_data + 'images_training_rev1', labels_train, batch_size=batch_size), \n",
    "                    steps_per_epoch=steps, \n",
    "                    epochs=epochs, \n",
    "                    validation_data= generator(path_data + 'images_training_rev1', labels_val, batch_size=batch_size),\n",
    "                    validation_steps=steps_va)"
   ]
  },
  {
   "cell_type": "code",
   "execution_count": 14,
   "metadata": {},
   "outputs": [
    {
     "data": {
      "text/plain": [
       "[0.0531444140950089, 0.2299176670003274]"
      ]
     },
     "execution_count": 14,
     "metadata": {},
     "output_type": "execute_result"
    }
   ],
   "source": [
    "model.evaluate_generator(generator(path_data + 'images_training_rev1', labels_test, batch_size=batch_size), steps=steps)"
   ]
  }
 ],
 "metadata": {
  "kernelspec": {
   "display_name": "Python [conda env:tensorflow]",
   "language": "python",
   "name": "conda-env-tensorflow-py"
  },
  "language_info": {
   "codemirror_mode": {
    "name": "ipython",
    "version": 3
   },
   "file_extension": ".py",
   "mimetype": "text/x-python",
   "name": "python",
   "nbconvert_exporter": "python",
   "pygments_lexer": "ipython3",
   "version": "3.6.4"
  }
 },
 "nbformat": 4,
 "nbformat_minor": 2
}
